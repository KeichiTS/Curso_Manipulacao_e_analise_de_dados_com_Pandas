{
 "cells": [
  {
   "cell_type": "code",
   "execution_count": 1,
   "id": "cc898a19-6e19-4d82-8248-dc7f71b6877c",
   "metadata": {},
   "outputs": [],
   "source": [
    "import pandas as pd"
   ]
  },
  {
   "cell_type": "code",
   "execution_count": 2,
   "id": "e51cca77-8483-4742-a59d-8bd68c475ce8",
   "metadata": {},
   "outputs": [],
   "source": [
    "#cadastro da loja a:\n",
    "cadastro_a = { 'Id': ['AA2930', 'BB4563', 'CC2139', 'DE2521', 'GT3462', 'HH1158'],\n",
    "              'Nome' : ['Victor', 'Amanda', 'Bruna', 'Carlos', 'Ricardo', 'Maria'],\n",
    "              'Idade' : ['00092-029', '11111-111', '22222-888', '00000-999', '88888-111', '77777-666']\n",
    "}\n",
    "cadastro_a = pd.DataFrame(cadastro_a, columns = ['Id', 'Nome', 'Idade', 'CEP'])"
   ]
  },
  {
   "cell_type": "code",
   "execution_count": 4,
   "id": "0358c72d-e1ec-4a76-abf3-91c78616375e",
   "metadata": {},
   "outputs": [],
   "source": [
    "#cadastro da loja b:\n",
    "cadastro_b = { 'Id' : ['CC9999', 'EF4488', 'DD9999', 'GT3462', 'HH1158'],\n",
    "              'Nome' : ['Marcos', 'Patricia', 'Ericka', 'Ricardo', 'Maria'],\n",
    "              'Idade' : [19,30,22,30,27],\n",
    "              'CEP' : ['00092-029', '11111-111', '11111-888', '88888-111', '77777-666']    \n",
    "}\n",
    "cadastro_b = pd.DataFrame(cadastro_b, columns = ['Id', 'Nome', 'Idade', 'CEP'])"
   ]
  },
  {
   "cell_type": "code",
   "execution_count": 6,
   "id": "f761ce02-292d-49d4-ab1f-70d9914c472b",
   "metadata": {},
   "outputs": [],
   "source": [
    "#registro de compras de todas as unidades \n",
    "\n",
    "compras = {'Id': ['AA2930', 'EF4488', 'CC2139', 'EF4488', 'CC9999', 'AA2930', 'HH1158', 'HH1158'],\n",
    "           'Data': ['2019-01-01', '2019-01-30', '2019-01-30', '2019-02-01', '2019-02-20', '2019-03-15', '2019-04-01', '2019-04-10'],\n",
    "           'Valor' : [200,100,40,150,300,25,50,500]\n",
    "}\n",
    "\n",
    "compras = pd.DataFrame(compras, columns= ['Id', 'Data', 'Valor'])"
   ]
  },
  {
   "cell_type": "code",
   "execution_count": 8,
   "id": "f3c52ced-520b-4cdf-be8d-3deb191a53e5",
   "metadata": {},
   "outputs": [],
   "source": [
    "# pd.merge(tabela_da_esquerda, tabela_da_direita, on = 'coluna_coincidente', how = 'left|right|inner|outer')"
   ]
  },
  {
   "cell_type": "code",
   "execution_count": 11,
   "id": "9c6fe034-f8a7-4d4a-b9d9-28ee28e8dd5c",
   "metadata": {},
   "outputs": [
    {
     "data": {
      "text/html": [
       "<div>\n",
       "<style scoped>\n",
       "    .dataframe tbody tr th:only-of-type {\n",
       "        vertical-align: middle;\n",
       "    }\n",
       "\n",
       "    .dataframe tbody tr th {\n",
       "        vertical-align: top;\n",
       "    }\n",
       "\n",
       "    .dataframe thead th {\n",
       "        text-align: right;\n",
       "    }\n",
       "</style>\n",
       "<table border=\"1\" class=\"dataframe\">\n",
       "  <thead>\n",
       "    <tr style=\"text-align: right;\">\n",
       "      <th></th>\n",
       "      <th>Id</th>\n",
       "      <th>Nome_x</th>\n",
       "      <th>Idade_x</th>\n",
       "      <th>CEP_x</th>\n",
       "      <th>Nome_y</th>\n",
       "      <th>Idade_y</th>\n",
       "      <th>CEP_y</th>\n",
       "    </tr>\n",
       "  </thead>\n",
       "  <tbody>\n",
       "    <tr>\n",
       "      <th>0</th>\n",
       "      <td>GT3462</td>\n",
       "      <td>Ricardo</td>\n",
       "      <td>88888-111</td>\n",
       "      <td>NaN</td>\n",
       "      <td>Ricardo</td>\n",
       "      <td>30</td>\n",
       "      <td>88888-111</td>\n",
       "    </tr>\n",
       "    <tr>\n",
       "      <th>1</th>\n",
       "      <td>HH1158</td>\n",
       "      <td>Maria</td>\n",
       "      <td>77777-666</td>\n",
       "      <td>NaN</td>\n",
       "      <td>Maria</td>\n",
       "      <td>27</td>\n",
       "      <td>77777-666</td>\n",
       "    </tr>\n",
       "  </tbody>\n",
       "</table>\n",
       "</div>"
      ],
      "text/plain": [
       "       Id   Nome_x    Idade_x CEP_x   Nome_y  Idade_y      CEP_y\n",
       "0  GT3462  Ricardo  88888-111   NaN  Ricardo       30  88888-111\n",
       "1  HH1158    Maria  77777-666   NaN    Maria       27  77777-666"
      ]
     },
     "execution_count": 11,
     "metadata": {},
     "output_type": "execute_result"
    }
   ],
   "source": [
    "pd.merge(cadastro_a,cadastro_b, on = ['Id'], how = 'inner')"
   ]
  },
  {
   "cell_type": "code",
   "execution_count": 12,
   "id": "206e1cb0-f4d9-4ec3-b2da-85c2022ab665",
   "metadata": {},
   "outputs": [
    {
     "data": {
      "text/html": [
       "<div>\n",
       "<style scoped>\n",
       "    .dataframe tbody tr th:only-of-type {\n",
       "        vertical-align: middle;\n",
       "    }\n",
       "\n",
       "    .dataframe tbody tr th {\n",
       "        vertical-align: top;\n",
       "    }\n",
       "\n",
       "    .dataframe thead th {\n",
       "        text-align: right;\n",
       "    }\n",
       "</style>\n",
       "<table border=\"1\" class=\"dataframe\">\n",
       "  <thead>\n",
       "    <tr style=\"text-align: right;\">\n",
       "      <th></th>\n",
       "      <th>Id</th>\n",
       "      <th>Nome</th>\n",
       "      <th>Idade_x</th>\n",
       "      <th>CEP_x</th>\n",
       "      <th>Idade_y</th>\n",
       "      <th>CEP_y</th>\n",
       "    </tr>\n",
       "  </thead>\n",
       "  <tbody>\n",
       "    <tr>\n",
       "      <th>0</th>\n",
       "      <td>GT3462</td>\n",
       "      <td>Ricardo</td>\n",
       "      <td>88888-111</td>\n",
       "      <td>NaN</td>\n",
       "      <td>30</td>\n",
       "      <td>88888-111</td>\n",
       "    </tr>\n",
       "    <tr>\n",
       "      <th>1</th>\n",
       "      <td>HH1158</td>\n",
       "      <td>Maria</td>\n",
       "      <td>77777-666</td>\n",
       "      <td>NaN</td>\n",
       "      <td>27</td>\n",
       "      <td>77777-666</td>\n",
       "    </tr>\n",
       "  </tbody>\n",
       "</table>\n",
       "</div>"
      ],
      "text/plain": [
       "       Id     Nome    Idade_x CEP_x  Idade_y      CEP_y\n",
       "0  GT3462  Ricardo  88888-111   NaN       30  88888-111\n",
       "1  HH1158    Maria  77777-666   NaN       27  77777-666"
      ]
     },
     "execution_count": 12,
     "metadata": {},
     "output_type": "execute_result"
    }
   ],
   "source": [
    "pd.merge(cadastro_a, cadastro_b[['Id', 'Idade', 'CEP']], on = ['Id'], how = 'inner')"
   ]
  },
  {
   "cell_type": "code",
   "execution_count": null,
   "id": "fb8ba728-9545-4d38-b153-cbec3f86a910",
   "metadata": {},
   "outputs": [],
   "source": []
  }
 ],
 "metadata": {
  "kernelspec": {
   "display_name": "Python 3 (ipykernel)",
   "language": "python",
   "name": "python3"
  },
  "language_info": {
   "codemirror_mode": {
    "name": "ipython",
    "version": 3
   },
   "file_extension": ".py",
   "mimetype": "text/x-python",
   "name": "python",
   "nbconvert_exporter": "python",
   "pygments_lexer": "ipython3",
   "version": "3.11.7"
  }
 },
 "nbformat": 4,
 "nbformat_minor": 5
}
