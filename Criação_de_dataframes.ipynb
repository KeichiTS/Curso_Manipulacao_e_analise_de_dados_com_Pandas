{
 "cells": [
  {
   "cell_type": "code",
   "execution_count": 18,
   "id": "53b8b2fe-c46a-41c9-ba3d-5a2fcb34d6f6",
   "metadata": {},
   "outputs": [],
   "source": [
    "import pandas as pd\n",
    "import numpy as np"
   ]
  },
  {
   "cell_type": "code",
   "execution_count": 19,
   "id": "056312e8-b0b1-4d0d-8dae-4aee60f3e757",
   "metadata": {},
   "outputs": [],
   "source": [
    "series = pd.Series([7 , 4, 2, np.nan, 6, 9])"
   ]
  },
  {
   "cell_type": "code",
   "execution_count": 20,
   "id": "dadd1c7f-dad3-40f6-9470-c4fb8a3bea9e",
   "metadata": {},
   "outputs": [
    {
     "data": {
      "text/plain": [
       "0    7.0\n",
       "1    4.0\n",
       "2    2.0\n",
       "3    NaN\n",
       "4    6.0\n",
       "5    9.0\n",
       "dtype: float64"
      ]
     },
     "execution_count": 20,
     "metadata": {},
     "output_type": "execute_result"
    }
   ],
   "source": [
    "series"
   ]
  },
  {
   "cell_type": "code",
   "execution_count": 21,
   "id": "058fde01-f3e0-4f78-bee8-404fd0acd7ba",
   "metadata": {},
   "outputs": [
    {
     "data": {
      "text/plain": [
       "pandas.core.series.Series"
      ]
     },
     "execution_count": 21,
     "metadata": {},
     "output_type": "execute_result"
    }
   ],
   "source": [
    "type(series)"
   ]
  },
  {
   "cell_type": "code",
   "execution_count": 23,
   "id": "184c01f7-877c-4d6e-8b0f-76e8f03c4f71",
   "metadata": {},
   "outputs": [],
   "source": [
    "datas = pd.date_range('20180101', periods = 6)"
   ]
  },
  {
   "cell_type": "code",
   "execution_count": 24,
   "id": "f3745806-72f7-4fa6-914d-7c5d0c8c8326",
   "metadata": {},
   "outputs": [
    {
     "data": {
      "text/plain": [
       "DatetimeIndex(['2018-01-01', '2018-01-02', '2018-01-03', '2018-01-04',\n",
       "               '2018-01-05', '2018-01-06'],\n",
       "              dtype='datetime64[ns]', freq='D')"
      ]
     },
     "execution_count": 24,
     "metadata": {},
     "output_type": "execute_result"
    }
   ],
   "source": [
    "datas"
   ]
  },
  {
   "cell_type": "code",
   "execution_count": 32,
   "id": "9f30aedc-9464-4da5-9670-9afde97955cb",
   "metadata": {},
   "outputs": [
    {
     "data": {
      "text/plain": [
       "\u001b[1;31mSignature:\u001b[0m\n",
       "\u001b[0mpd\u001b[0m\u001b[1;33m.\u001b[0m\u001b[0mdate_range\u001b[0m\u001b[1;33m(\u001b[0m\u001b[1;33m\n",
       "\u001b[0m    \u001b[0mstart\u001b[0m\u001b[1;33m=\u001b[0m\u001b[1;32mNone\u001b[0m\u001b[1;33m,\u001b[0m\u001b[1;33m\n",
       "\u001b[0m    \u001b[0mend\u001b[0m\u001b[1;33m=\u001b[0m\u001b[1;32mNone\u001b[0m\u001b[1;33m,\u001b[0m\u001b[1;33m\n",
       "\u001b[0m    \u001b[0mperiods\u001b[0m\u001b[1;33m=\u001b[0m\u001b[1;32mNone\u001b[0m\u001b[1;33m,\u001b[0m\u001b[1;33m\n",
       "\u001b[0m    \u001b[0mfreq\u001b[0m\u001b[1;33m=\u001b[0m\u001b[1;32mNone\u001b[0m\u001b[1;33m,\u001b[0m\u001b[1;33m\n",
       "\u001b[0m    \u001b[0mtz\u001b[0m\u001b[1;33m=\u001b[0m\u001b[1;32mNone\u001b[0m\u001b[1;33m,\u001b[0m\u001b[1;33m\n",
       "\u001b[0m    \u001b[0mnormalize\u001b[0m\u001b[1;33m:\u001b[0m \u001b[1;34m'bool'\u001b[0m \u001b[1;33m=\u001b[0m \u001b[1;32mFalse\u001b[0m\u001b[1;33m,\u001b[0m\u001b[1;33m\n",
       "\u001b[0m    \u001b[0mname\u001b[0m\u001b[1;33m:\u001b[0m \u001b[1;34m'Hashable | None'\u001b[0m \u001b[1;33m=\u001b[0m \u001b[1;32mNone\u001b[0m\u001b[1;33m,\u001b[0m\u001b[1;33m\n",
       "\u001b[0m    \u001b[0minclusive\u001b[0m\u001b[1;33m:\u001b[0m \u001b[1;34m'IntervalClosedType'\u001b[0m \u001b[1;33m=\u001b[0m \u001b[1;34m'both'\u001b[0m\u001b[1;33m,\u001b[0m\u001b[1;33m\n",
       "\u001b[0m    \u001b[1;33m*\u001b[0m\u001b[1;33m,\u001b[0m\u001b[1;33m\n",
       "\u001b[0m    \u001b[0munit\u001b[0m\u001b[1;33m:\u001b[0m \u001b[1;34m'str | None'\u001b[0m \u001b[1;33m=\u001b[0m \u001b[1;32mNone\u001b[0m\u001b[1;33m,\u001b[0m\u001b[1;33m\n",
       "\u001b[0m    \u001b[1;33m**\u001b[0m\u001b[0mkwargs\u001b[0m\u001b[1;33m,\u001b[0m\u001b[1;33m\n",
       "\u001b[0m\u001b[1;33m)\u001b[0m \u001b[1;33m->\u001b[0m \u001b[1;34m'DatetimeIndex'\u001b[0m\u001b[1;33m\u001b[0m\u001b[1;33m\u001b[0m\u001b[0m\n",
       "\u001b[1;31mDocstring:\u001b[0m\n",
       "Return a fixed frequency DatetimeIndex.\n",
       "\n",
       "Returns the range of equally spaced time points (where the difference between any\n",
       "two adjacent points is specified by the given frequency) such that they all\n",
       "satisfy `start <[=] x <[=] end`, where the first one and the last one are, resp.,\n",
       "the first and last time points in that range that fall on the boundary of ``freq``\n",
       "(if given as a frequency string) or that are valid for ``freq`` (if given as a\n",
       ":class:`pandas.tseries.offsets.DateOffset`). (If exactly one of ``start``,\n",
       "``end``, or ``freq`` is *not* specified, this missing parameter can be computed\n",
       "given ``periods``, the number of timesteps in the range. See the note below.)\n",
       "\n",
       "Parameters\n",
       "----------\n",
       "start : str or datetime-like, optional\n",
       "    Left bound for generating dates.\n",
       "end : str or datetime-like, optional\n",
       "    Right bound for generating dates.\n",
       "periods : int, optional\n",
       "    Number of periods to generate.\n",
       "freq : str, Timedelta, datetime.timedelta, or DateOffset, default 'D'\n",
       "    Frequency strings can have multiples, e.g. '5H'. See\n",
       "    :ref:`here <timeseries.offset_aliases>` for a list of\n",
       "    frequency aliases.\n",
       "tz : str or tzinfo, optional\n",
       "    Time zone name for returning localized DatetimeIndex, for example\n",
       "    'Asia/Hong_Kong'. By default, the resulting DatetimeIndex is\n",
       "    timezone-naive unless timezone-aware datetime-likes are passed.\n",
       "normalize : bool, default False\n",
       "    Normalize start/end dates to midnight before generating date range.\n",
       "name : str, default None\n",
       "    Name of the resulting DatetimeIndex.\n",
       "inclusive : {\"both\", \"neither\", \"left\", \"right\"}, default \"both\"\n",
       "    Include boundaries; Whether to set each bound as closed or open.\n",
       "\n",
       "    .. versionadded:: 1.4.0\n",
       "unit : str, default None\n",
       "    Specify the desired resolution of the result.\n",
       "\n",
       "    .. versionadded:: 2.0.0\n",
       "**kwargs\n",
       "    For compatibility. Has no effect on the result.\n",
       "\n",
       "Returns\n",
       "-------\n",
       "DatetimeIndex\n",
       "\n",
       "See Also\n",
       "--------\n",
       "DatetimeIndex : An immutable container for datetimes.\n",
       "timedelta_range : Return a fixed frequency TimedeltaIndex.\n",
       "period_range : Return a fixed frequency PeriodIndex.\n",
       "interval_range : Return a fixed frequency IntervalIndex.\n",
       "\n",
       "Notes\n",
       "-----\n",
       "Of the four parameters ``start``, ``end``, ``periods``, and ``freq``,\n",
       "exactly three must be specified. If ``freq`` is omitted, the resulting\n",
       "``DatetimeIndex`` will have ``periods`` linearly spaced elements between\n",
       "``start`` and ``end`` (closed on both sides).\n",
       "\n",
       "To learn more about the frequency strings, please see `this link\n",
       "<https://pandas.pydata.org/pandas-docs/stable/user_guide/timeseries.html#offset-aliases>`__.\n",
       "\n",
       "Examples\n",
       "--------\n",
       "**Specifying the values**\n",
       "\n",
       "The next four examples generate the same `DatetimeIndex`, but vary\n",
       "the combination of `start`, `end` and `periods`.\n",
       "\n",
       "Specify `start` and `end`, with the default daily frequency.\n",
       "\n",
       ">>> pd.date_range(start='1/1/2018', end='1/08/2018')\n",
       "DatetimeIndex(['2018-01-01', '2018-01-02', '2018-01-03', '2018-01-04',\n",
       "               '2018-01-05', '2018-01-06', '2018-01-07', '2018-01-08'],\n",
       "              dtype='datetime64[ns]', freq='D')\n",
       "\n",
       "Specify timezone-aware `start` and `end`, with the default daily frequency.\n",
       "\n",
       ">>> pd.date_range(\n",
       "...     start=pd.to_datetime(\"1/1/2018\").tz_localize(\"Europe/Berlin\"),\n",
       "...     end=pd.to_datetime(\"1/08/2018\").tz_localize(\"Europe/Berlin\"),\n",
       "... )\n",
       "DatetimeIndex(['2018-01-01 00:00:00+01:00', '2018-01-02 00:00:00+01:00',\n",
       "               '2018-01-03 00:00:00+01:00', '2018-01-04 00:00:00+01:00',\n",
       "               '2018-01-05 00:00:00+01:00', '2018-01-06 00:00:00+01:00',\n",
       "               '2018-01-07 00:00:00+01:00', '2018-01-08 00:00:00+01:00'],\n",
       "              dtype='datetime64[ns, Europe/Berlin]', freq='D')\n",
       "\n",
       "Specify `start` and `periods`, the number of periods (days).\n",
       "\n",
       ">>> pd.date_range(start='1/1/2018', periods=8)\n",
       "DatetimeIndex(['2018-01-01', '2018-01-02', '2018-01-03', '2018-01-04',\n",
       "               '2018-01-05', '2018-01-06', '2018-01-07', '2018-01-08'],\n",
       "              dtype='datetime64[ns]', freq='D')\n",
       "\n",
       "Specify `end` and `periods`, the number of periods (days).\n",
       "\n",
       ">>> pd.date_range(end='1/1/2018', periods=8)\n",
       "DatetimeIndex(['2017-12-25', '2017-12-26', '2017-12-27', '2017-12-28',\n",
       "               '2017-12-29', '2017-12-30', '2017-12-31', '2018-01-01'],\n",
       "              dtype='datetime64[ns]', freq='D')\n",
       "\n",
       "Specify `start`, `end`, and `periods`; the frequency is generated\n",
       "automatically (linearly spaced).\n",
       "\n",
       ">>> pd.date_range(start='2018-04-24', end='2018-04-27', periods=3)\n",
       "DatetimeIndex(['2018-04-24 00:00:00', '2018-04-25 12:00:00',\n",
       "               '2018-04-27 00:00:00'],\n",
       "              dtype='datetime64[ns]', freq=None)\n",
       "\n",
       "**Other Parameters**\n",
       "\n",
       "Changed the `freq` (frequency) to ``'M'`` (month end frequency).\n",
       "\n",
       ">>> pd.date_range(start='1/1/2018', periods=5, freq='M')\n",
       "DatetimeIndex(['2018-01-31', '2018-02-28', '2018-03-31', '2018-04-30',\n",
       "               '2018-05-31'],\n",
       "              dtype='datetime64[ns]', freq='M')\n",
       "\n",
       "Multiples are allowed\n",
       "\n",
       ">>> pd.date_range(start='1/1/2018', periods=5, freq='3M')\n",
       "DatetimeIndex(['2018-01-31', '2018-04-30', '2018-07-31', '2018-10-31',\n",
       "               '2019-01-31'],\n",
       "              dtype='datetime64[ns]', freq='3M')\n",
       "\n",
       "`freq` can also be specified as an Offset object.\n",
       "\n",
       ">>> pd.date_range(start='1/1/2018', periods=5, freq=pd.offsets.MonthEnd(3))\n",
       "DatetimeIndex(['2018-01-31', '2018-04-30', '2018-07-31', '2018-10-31',\n",
       "               '2019-01-31'],\n",
       "              dtype='datetime64[ns]', freq='3M')\n",
       "\n",
       "Specify `tz` to set the timezone.\n",
       "\n",
       ">>> pd.date_range(start='1/1/2018', periods=5, tz='Asia/Tokyo')\n",
       "DatetimeIndex(['2018-01-01 00:00:00+09:00', '2018-01-02 00:00:00+09:00',\n",
       "               '2018-01-03 00:00:00+09:00', '2018-01-04 00:00:00+09:00',\n",
       "               '2018-01-05 00:00:00+09:00'],\n",
       "              dtype='datetime64[ns, Asia/Tokyo]', freq='D')\n",
       "\n",
       "`inclusive` controls whether to include `start` and `end` that are on the\n",
       "boundary. The default, \"both\", includes boundary points on either end.\n",
       "\n",
       ">>> pd.date_range(start='2017-01-01', end='2017-01-04', inclusive=\"both\")\n",
       "DatetimeIndex(['2017-01-01', '2017-01-02', '2017-01-03', '2017-01-04'],\n",
       "              dtype='datetime64[ns]', freq='D')\n",
       "\n",
       "Use ``inclusive='left'`` to exclude `end` if it falls on the boundary.\n",
       "\n",
       ">>> pd.date_range(start='2017-01-01', end='2017-01-04', inclusive='left')\n",
       "DatetimeIndex(['2017-01-01', '2017-01-02', '2017-01-03'],\n",
       "              dtype='datetime64[ns]', freq='D')\n",
       "\n",
       "Use ``inclusive='right'`` to exclude `start` if it falls on the boundary, and\n",
       "similarly ``inclusive='neither'`` will exclude both `start` and `end`.\n",
       "\n",
       ">>> pd.date_range(start='2017-01-01', end='2017-01-04', inclusive='right')\n",
       "DatetimeIndex(['2017-01-02', '2017-01-03', '2017-01-04'],\n",
       "              dtype='datetime64[ns]', freq='D')\n",
       "\n",
       "**Specify a unit**\n",
       "\n",
       ">>> pd.date_range(start=\"2017-01-01\", periods=10, freq=\"100AS\", unit=\"s\")\n",
       "DatetimeIndex(['2017-01-01', '2117-01-01', '2217-01-01', '2317-01-01',\n",
       "               '2417-01-01', '2517-01-01', '2617-01-01', '2717-01-01',\n",
       "               '2817-01-01', '2917-01-01'],\n",
       "              dtype='datetime64[s]', freq='100AS-JAN')\n",
       "\u001b[1;31mFile:\u001b[0m      c:\\programdata\\anaconda3\\lib\\site-packages\\pandas\\core\\indexes\\datetimes.py\n",
       "\u001b[1;31mType:\u001b[0m      function"
      ]
     },
     "metadata": {},
     "output_type": "display_data"
    }
   ],
   "source": [
    "?pd.date_range"
   ]
  },
  {
   "cell_type": "code",
   "execution_count": 33,
   "id": "e2fe5a8d-a79f-413b-8360-8c3ac6f70708",
   "metadata": {},
   "outputs": [],
   "source": [
    "datas = pd.date_range('20180101', periods = 6, freq = 'M')"
   ]
  },
  {
   "cell_type": "code",
   "execution_count": 34,
   "id": "ec8d733b-7f39-40f4-a641-4f3ad013c885",
   "metadata": {},
   "outputs": [
    {
     "data": {
      "text/plain": [
       "DatetimeIndex(['2018-01-31', '2018-02-28', '2018-03-31', '2018-04-30',\n",
       "               '2018-05-31', '2018-06-30'],\n",
       "              dtype='datetime64[ns]', freq='M')"
      ]
     },
     "execution_count": 34,
     "metadata": {},
     "output_type": "execute_result"
    }
   ],
   "source": [
    "datas"
   ]
  },
  {
   "cell_type": "code",
   "execution_count": 36,
   "id": "c1756e06-63ba-421d-927b-ac7652ed5145",
   "metadata": {},
   "outputs": [
    {
     "data": {
      "text/plain": [
       "pandas.core.indexes.datetimes.DatetimeIndex"
      ]
     },
     "execution_count": 36,
     "metadata": {},
     "output_type": "execute_result"
    }
   ],
   "source": [
    "type(datas)"
   ]
  },
  {
   "cell_type": "code",
   "execution_count": null,
   "id": "7732051a-44fa-407d-bb87-cc9d10f2275c",
   "metadata": {},
   "outputs": [],
   "source": []
  }
 ],
 "metadata": {
  "kernelspec": {
   "display_name": "Python 3 (ipykernel)",
   "language": "python",
   "name": "python3"
  },
  "language_info": {
   "codemirror_mode": {
    "name": "ipython",
    "version": 3
   },
   "file_extension": ".py",
   "mimetype": "text/x-python",
   "name": "python",
   "nbconvert_exporter": "python",
   "pygments_lexer": "ipython3",
   "version": "3.11.7"
  }
 },
 "nbformat": 4,
 "nbformat_minor": 5
}
