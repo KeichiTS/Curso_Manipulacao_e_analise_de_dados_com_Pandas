{
 "cells": [
  {
   "cell_type": "code",
   "execution_count": 1,
   "id": "892a5ae2-4e41-4ec3-a135-82820026a257",
   "metadata": {},
   "outputs": [],
   "source": [
    "import pandas as pd\n",
    "import numpy as np"
   ]
  },
  {
   "cell_type": "code",
   "execution_count": 3,
   "id": "484fef69-a04d-4ca8-8935-f0808eb799c7",
   "metadata": {},
   "outputs": [],
   "source": [
    "datas = pd.date_range('20200101', periods = 6)\n",
    "\n",
    "df = pd.DataFrame(np.random.randn(6,4), index = datas, columns = ['Var_A', 'Var_B', 'Var_C', 'Var_D'] )"
   ]
  },
  {
   "cell_type": "code",
   "execution_count": 4,
   "id": "def94e7b-cb8a-4eae-8ebd-c1f5667686c8",
   "metadata": {},
   "outputs": [
    {
     "data": {
      "text/html": [
       "<div>\n",
       "<style scoped>\n",
       "    .dataframe tbody tr th:only-of-type {\n",
       "        vertical-align: middle;\n",
       "    }\n",
       "\n",
       "    .dataframe tbody tr th {\n",
       "        vertical-align: top;\n",
       "    }\n",
       "\n",
       "    .dataframe thead th {\n",
       "        text-align: right;\n",
       "    }\n",
       "</style>\n",
       "<table border=\"1\" class=\"dataframe\">\n",
       "  <thead>\n",
       "    <tr style=\"text-align: right;\">\n",
       "      <th></th>\n",
       "      <th>Var_A</th>\n",
       "      <th>Var_B</th>\n",
       "      <th>Var_C</th>\n",
       "      <th>Var_D</th>\n",
       "    </tr>\n",
       "  </thead>\n",
       "  <tbody>\n",
       "    <tr>\n",
       "      <th>2020-01-01</th>\n",
       "      <td>-0.144716</td>\n",
       "      <td>-0.601715</td>\n",
       "      <td>2.431771</td>\n",
       "      <td>0.860622</td>\n",
       "    </tr>\n",
       "    <tr>\n",
       "      <th>2020-01-02</th>\n",
       "      <td>-0.079425</td>\n",
       "      <td>-0.615267</td>\n",
       "      <td>-0.849456</td>\n",
       "      <td>0.395230</td>\n",
       "    </tr>\n",
       "    <tr>\n",
       "      <th>2020-01-03</th>\n",
       "      <td>1.670175</td>\n",
       "      <td>1.099007</td>\n",
       "      <td>0.269065</td>\n",
       "      <td>0.630740</td>\n",
       "    </tr>\n",
       "    <tr>\n",
       "      <th>2020-01-04</th>\n",
       "      <td>-0.469530</td>\n",
       "      <td>-1.464931</td>\n",
       "      <td>1.463334</td>\n",
       "      <td>-0.723826</td>\n",
       "    </tr>\n",
       "    <tr>\n",
       "      <th>2020-01-05</th>\n",
       "      <td>-0.156559</td>\n",
       "      <td>0.003116</td>\n",
       "      <td>-0.923887</td>\n",
       "      <td>-0.691555</td>\n",
       "    </tr>\n",
       "    <tr>\n",
       "      <th>2020-01-06</th>\n",
       "      <td>-0.838945</td>\n",
       "      <td>-1.616824</td>\n",
       "      <td>-0.097068</td>\n",
       "      <td>0.491532</td>\n",
       "    </tr>\n",
       "  </tbody>\n",
       "</table>\n",
       "</div>"
      ],
      "text/plain": [
       "               Var_A     Var_B     Var_C     Var_D\n",
       "2020-01-01 -0.144716 -0.601715  2.431771  0.860622\n",
       "2020-01-02 -0.079425 -0.615267 -0.849456  0.395230\n",
       "2020-01-03  1.670175  1.099007  0.269065  0.630740\n",
       "2020-01-04 -0.469530 -1.464931  1.463334 -0.723826\n",
       "2020-01-05 -0.156559  0.003116 -0.923887 -0.691555\n",
       "2020-01-06 -0.838945 -1.616824 -0.097068  0.491532"
      ]
     },
     "execution_count": 4,
     "metadata": {},
     "output_type": "execute_result"
    }
   ],
   "source": [
    "df"
   ]
  },
  {
   "cell_type": "code",
   "execution_count": 6,
   "id": "c9e8b928-4ce8-4ba9-becf-5b97c66c41ef",
   "metadata": {},
   "outputs": [],
   "source": [
    "dft = df.T"
   ]
  },
  {
   "cell_type": "code",
   "execution_count": 7,
   "id": "12e1e16f-0e7c-4eb3-9783-fb2c22e12e65",
   "metadata": {},
   "outputs": [
    {
     "data": {
      "text/html": [
       "<div>\n",
       "<style scoped>\n",
       "    .dataframe tbody tr th:only-of-type {\n",
       "        vertical-align: middle;\n",
       "    }\n",
       "\n",
       "    .dataframe tbody tr th {\n",
       "        vertical-align: top;\n",
       "    }\n",
       "\n",
       "    .dataframe thead th {\n",
       "        text-align: right;\n",
       "    }\n",
       "</style>\n",
       "<table border=\"1\" class=\"dataframe\">\n",
       "  <thead>\n",
       "    <tr style=\"text-align: right;\">\n",
       "      <th></th>\n",
       "      <th>2020-01-01</th>\n",
       "      <th>2020-01-02</th>\n",
       "      <th>2020-01-03</th>\n",
       "      <th>2020-01-04</th>\n",
       "      <th>2020-01-05</th>\n",
       "      <th>2020-01-06</th>\n",
       "    </tr>\n",
       "  </thead>\n",
       "  <tbody>\n",
       "    <tr>\n",
       "      <th>Var_A</th>\n",
       "      <td>-0.144716</td>\n",
       "      <td>-0.079425</td>\n",
       "      <td>1.670175</td>\n",
       "      <td>-0.469530</td>\n",
       "      <td>-0.156559</td>\n",
       "      <td>-0.838945</td>\n",
       "    </tr>\n",
       "    <tr>\n",
       "      <th>Var_B</th>\n",
       "      <td>-0.601715</td>\n",
       "      <td>-0.615267</td>\n",
       "      <td>1.099007</td>\n",
       "      <td>-1.464931</td>\n",
       "      <td>0.003116</td>\n",
       "      <td>-1.616824</td>\n",
       "    </tr>\n",
       "    <tr>\n",
       "      <th>Var_C</th>\n",
       "      <td>2.431771</td>\n",
       "      <td>-0.849456</td>\n",
       "      <td>0.269065</td>\n",
       "      <td>1.463334</td>\n",
       "      <td>-0.923887</td>\n",
       "      <td>-0.097068</td>\n",
       "    </tr>\n",
       "    <tr>\n",
       "      <th>Var_D</th>\n",
       "      <td>0.860622</td>\n",
       "      <td>0.395230</td>\n",
       "      <td>0.630740</td>\n",
       "      <td>-0.723826</td>\n",
       "      <td>-0.691555</td>\n",
       "      <td>0.491532</td>\n",
       "    </tr>\n",
       "  </tbody>\n",
       "</table>\n",
       "</div>"
      ],
      "text/plain": [
       "       2020-01-01  2020-01-02  2020-01-03  2020-01-04  2020-01-05  2020-01-06\n",
       "Var_A   -0.144716   -0.079425    1.670175   -0.469530   -0.156559   -0.838945\n",
       "Var_B   -0.601715   -0.615267    1.099007   -1.464931    0.003116   -1.616824\n",
       "Var_C    2.431771   -0.849456    0.269065    1.463334   -0.923887   -0.097068\n",
       "Var_D    0.860622    0.395230    0.630740   -0.723826   -0.691555    0.491532"
      ]
     },
     "execution_count": 7,
     "metadata": {},
     "output_type": "execute_result"
    }
   ],
   "source": [
    "dft"
   ]
  },
  {
   "cell_type": "code",
   "execution_count": 11,
   "id": "3f1910d7-0c90-45b8-bba9-0b0f24c5488b",
   "metadata": {},
   "outputs": [
    {
     "data": {
      "text/plain": [
       "(6, 4)"
      ]
     },
     "execution_count": 11,
     "metadata": {},
     "output_type": "execute_result"
    }
   ],
   "source": [
    "df.shape"
   ]
  },
  {
   "cell_type": "code",
   "execution_count": 12,
   "id": "e39e0f20-c762-4252-9ab4-3dc33e1d0cd9",
   "metadata": {},
   "outputs": [
    {
     "data": {
      "text/plain": [
       "(4, 6)"
      ]
     },
     "execution_count": 12,
     "metadata": {},
     "output_type": "execute_result"
    }
   ],
   "source": [
    "dft.shape"
   ]
  },
  {
   "cell_type": "code",
   "execution_count": 14,
   "id": "d71da52c-b48a-4b8b-b956-b3d37d3104e9",
   "metadata": {},
   "outputs": [
    {
     "data": {
      "text/plain": [
       "24"
      ]
     },
     "execution_count": 14,
     "metadata": {},
     "output_type": "execute_result"
    }
   ],
   "source": [
    "np.size(dft.values)"
   ]
  },
  {
   "cell_type": "code",
   "execution_count": 15,
   "id": "42981c75-f765-420a-baaf-3d1f128558b5",
   "metadata": {},
   "outputs": [],
   "source": [
    "v = dft.values"
   ]
  },
  {
   "cell_type": "code",
   "execution_count": 21,
   "id": "479dba2c-4f4d-4154-8e6c-e5203520339e",
   "metadata": {},
   "outputs": [
    {
     "data": {
      "text/plain": [
       "array([[-0.14471571, -0.07942451,  1.6701747 , -0.46953046, -0.15655852,\n",
       "        -0.83894528, -0.60171479, -0.61526716,  1.09900727, -1.46493054,\n",
       "         0.00311589, -1.61682363],\n",
       "       [ 2.43177101, -0.84945597,  0.26906536,  1.46333425, -0.92388696,\n",
       "        -0.09706796,  0.86062201,  0.39523039,  0.63074048, -0.72382553,\n",
       "        -0.69155457,  0.49153178]])"
      ]
     },
     "execution_count": 21,
     "metadata": {},
     "output_type": "execute_result"
    }
   ],
   "source": [
    "v.reshape((2,12))"
   ]
  },
  {
   "cell_type": "code",
   "execution_count": null,
   "id": "414cc066-0a53-4dff-aba9-2be1631f6089",
   "metadata": {},
   "outputs": [],
   "source": []
  }
 ],
 "metadata": {
  "kernelspec": {
   "display_name": "Python 3 (ipykernel)",
   "language": "python",
   "name": "python3"
  },
  "language_info": {
   "codemirror_mode": {
    "name": "ipython",
    "version": 3
   },
   "file_extension": ".py",
   "mimetype": "text/x-python",
   "name": "python",
   "nbconvert_exporter": "python",
   "pygments_lexer": "ipython3",
   "version": "3.11.7"
  }
 },
 "nbformat": 4,
 "nbformat_minor": 5
}
