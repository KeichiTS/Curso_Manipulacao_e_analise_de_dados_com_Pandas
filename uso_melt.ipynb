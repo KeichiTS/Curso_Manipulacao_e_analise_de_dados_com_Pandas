{
 "cells": [
  {
   "cell_type": "code",
   "execution_count": 1,
   "id": "eca5918d-9860-48e9-ab63-108d51a316a4",
   "metadata": {},
   "outputs": [],
   "source": [
    "import pandas as pd"
   ]
  },
  {
   "cell_type": "code",
   "execution_count": 2,
   "id": "565e63ea-24af-4b02-8f37-e2247cdb24ee",
   "metadata": {},
   "outputs": [
    {
     "name": "stdout",
     "output_type": "stream",
     "text": [
      "{'localizacao': ['DidadeA', 'CidadeB'], 'Temperatura': ['Prevista', 'Atual'], 'Set-2019': [30, 32], 'Out-2019': [45, 43], 'Nov-2019': [24, 22]}\n"
     ]
    }
   ],
   "source": [
    "data = {\n",
    "    'localizacao' : ['DidadeA', 'CidadeB'],\n",
    "    'Temperatura' : ['Prevista', 'Atual'],\n",
    "    'Set-2019' : [30,32],\n",
    "    'Out-2019' : [45,43],\n",
    "    'Nov-2019' : [24,22]   \n",
    "}\n",
    "print(data)"
   ]
  },
  {
   "cell_type": "code",
   "execution_count": 3,
   "id": "a4b2b294-8e03-4a64-8c5b-f0e2827dd170",
   "metadata": {},
   "outputs": [
    {
     "name": "stdout",
     "output_type": "stream",
     "text": [
      "  localizacao Temperatura  Set-2019  Out-2019  Nov-2019\n",
      "0     DidadeA    Prevista        30        45        24\n",
      "1     CidadeB       Atual        32        43        22\n"
     ]
    }
   ],
   "source": [
    "df = pd.DataFrame(data, columns = ['localizacao', 'Temperatura', 'Set-2019', 'Out-2019', 'Nov-2019'])\n",
    "print(df)"
   ]
  },
  {
   "cell_type": "code",
   "execution_count": 5,
   "id": "b01da782-1043-4706-8746-47c5a0e7c13e",
   "metadata": {},
   "outputs": [
    {
     "name": "stdout",
     "output_type": "stream",
     "text": [
      "  localizacao Temperatura      Date  Valor\n",
      "0     DidadeA    Prevista  Set-2019     30\n",
      "1     CidadeB       Atual  Set-2019     32\n",
      "2     DidadeA    Prevista  Out-2019     45\n",
      "3     CidadeB       Atual  Out-2019     43\n",
      "4     DidadeA    Prevista  Nov-2019     24\n",
      "5     CidadeB       Atual  Nov-2019     22\n"
     ]
    }
   ],
   "source": [
    "df2 = pd.melt(df, id_vars = ['localizacao', 'Temperatura'], var_name = 'Date', value_name = 'Valor')\n",
    "print(df2)"
   ]
  },
  {
   "cell_type": "code",
   "execution_count": 9,
   "id": "db9915ba-6972-464a-9d9d-e18d49a63915",
   "metadata": {},
   "outputs": [
    {
     "name": "stdout",
     "output_type": "stream",
     "text": [
      "  localizacao         Date     Value\n",
      "0     DidadeA  Temperatura  Prevista\n",
      "1     CidadeB  Temperatura     Atual\n",
      "2     DidadeA     Set-2019        30\n",
      "3     CidadeB     Set-2019        32\n",
      "4     DidadeA     Out-2019        45\n",
      "5     CidadeB     Out-2019        43\n",
      "6     DidadeA     Nov-2019        24\n",
      "7     CidadeB     Nov-2019        22\n"
     ]
    }
   ],
   "source": [
    "df2 = pd.melt(df, id_vars = ['localizacao'], var_name = 'Date', value_name = 'Value')\n",
    "print(df2)"
   ]
  },
  {
   "cell_type": "code",
   "execution_count": null,
   "id": "bfaafaf3-54e9-43c1-a36e-a9eb2ed75bc6",
   "metadata": {},
   "outputs": [],
   "source": []
  }
 ],
 "metadata": {
  "kernelspec": {
   "display_name": "Python 3 (ipykernel)",
   "language": "python",
   "name": "python3"
  },
  "language_info": {
   "codemirror_mode": {
    "name": "ipython",
    "version": 3
   },
   "file_extension": ".py",
   "mimetype": "text/x-python",
   "name": "python",
   "nbconvert_exporter": "python",
   "pygments_lexer": "ipython3",
   "version": "3.11.7"
  }
 },
 "nbformat": 4,
 "nbformat_minor": 5
}
