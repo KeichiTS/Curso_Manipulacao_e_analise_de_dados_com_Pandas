{
 "cells": [
  {
   "cell_type": "code",
   "execution_count": 1,
   "id": "9c64698a-926a-4a22-8fa2-15738b53ea4a",
   "metadata": {},
   "outputs": [],
   "source": [
    "import pandas as pd\n",
    "import numpy as np"
   ]
  },
  {
   "cell_type": "code",
   "execution_count": 2,
   "id": "9c2bb706-4f2a-4532-81db-60e263e33dec",
   "metadata": {},
   "outputs": [],
   "source": [
    "dias = pd.date_range(start = '20190101', periods = 12)"
   ]
  },
  {
   "cell_type": "code",
   "execution_count": 3,
   "id": "d0aacae6-ee77-4309-ac60-561d9fc4bbe7",
   "metadata": {},
   "outputs": [
    {
     "data": {
      "text/plain": [
       "DatetimeIndex(['2019-01-01', '2019-01-02', '2019-01-03', '2019-01-04',\n",
       "               '2019-01-05', '2019-01-06', '2019-01-07', '2019-01-08',\n",
       "               '2019-01-09', '2019-01-10', '2019-01-11', '2019-01-12'],\n",
       "              dtype='datetime64[ns]', freq='D')"
      ]
     },
     "execution_count": 3,
     "metadata": {},
     "output_type": "execute_result"
    }
   ],
   "source": [
    "dias"
   ]
  },
  {
   "cell_type": "code",
   "execution_count": 4,
   "id": "3745820a-b72f-4eba-8ed6-fd52f7a57bdf",
   "metadata": {},
   "outputs": [],
   "source": [
    "Pessoa = ['George', 'Victor', 'Lucas']"
   ]
  },
  {
   "cell_type": "code",
   "execution_count": 27,
   "id": "25e8a5dc-5453-4372-aed8-9b2d1951fdbf",
   "metadata": {},
   "outputs": [
    {
     "data": {
      "text/plain": [
       "'Victor'"
      ]
     },
     "execution_count": 27,
     "metadata": {},
     "output_type": "execute_result"
    }
   ],
   "source": [
    "np.random.choice(Pessoa)"
   ]
  },
  {
   "cell_type": "code",
   "execution_count": 32,
   "id": "6b16c378-cbb1-41d2-829b-2cb9c86c6b5b",
   "metadata": {},
   "outputs": [
    {
     "data": {
      "text/plain": [
       "['Victor',\n",
       " 'George',\n",
       " 'Lucas',\n",
       " 'Lucas',\n",
       " 'George',\n",
       " 'Lucas',\n",
       " 'George',\n",
       " 'Victor',\n",
       " 'Victor',\n",
       " 'Victor',\n",
       " 'George',\n",
       " 'Victor']"
      ]
     },
     "execution_count": 32,
     "metadata": {},
     "output_type": "execute_result"
    }
   ],
   "source": [
    "Nome = []\n",
    "Gasto = []\n",
    "for i in range(12):\n",
    "    Nome.append(np.random.choice(Pessoa))\n",
    "    Gasto.append(np.round(np.random.rand() * 100, 2))\n",
    "Nome"
   ]
  },
  {
   "cell_type": "code",
   "execution_count": 33,
   "id": "1fbce845-417e-4f80-afb1-20a7bb2d1c5f",
   "metadata": {},
   "outputs": [
    {
     "data": {
      "text/plain": [
       "[21.97, 4.18, 4.7, 79.84, 39.52, 66.72, 92.67, 63.9, 5.71, 14.51, 38.14, 5.46]"
      ]
     },
     "execution_count": 33,
     "metadata": {},
     "output_type": "execute_result"
    }
   ],
   "source": [
    "Gasto"
   ]
  },
  {
   "cell_type": "code",
   "execution_count": 34,
   "id": "de0c4460-7034-4a7b-b3e8-d24ae5743302",
   "metadata": {},
   "outputs": [],
   "source": [
    "df = pd.DataFrame({'Dia': dias, 'Nome' : Nome, 'Gasto' : Gasto})"
   ]
  },
  {
   "cell_type": "code",
   "execution_count": 35,
   "id": "1fcbd706-907b-4fd7-ba48-d1bfed6fed86",
   "metadata": {},
   "outputs": [
    {
     "data": {
      "text/html": [
       "<div>\n",
       "<style scoped>\n",
       "    .dataframe tbody tr th:only-of-type {\n",
       "        vertical-align: middle;\n",
       "    }\n",
       "\n",
       "    .dataframe tbody tr th {\n",
       "        vertical-align: top;\n",
       "    }\n",
       "\n",
       "    .dataframe thead th {\n",
       "        text-align: right;\n",
       "    }\n",
       "</style>\n",
       "<table border=\"1\" class=\"dataframe\">\n",
       "  <thead>\n",
       "    <tr style=\"text-align: right;\">\n",
       "      <th></th>\n",
       "      <th>Dia</th>\n",
       "      <th>Nome</th>\n",
       "      <th>Gasto</th>\n",
       "    </tr>\n",
       "  </thead>\n",
       "  <tbody>\n",
       "    <tr>\n",
       "      <th>0</th>\n",
       "      <td>2019-01-01</td>\n",
       "      <td>Victor</td>\n",
       "      <td>21.97</td>\n",
       "    </tr>\n",
       "    <tr>\n",
       "      <th>1</th>\n",
       "      <td>2019-01-02</td>\n",
       "      <td>George</td>\n",
       "      <td>4.18</td>\n",
       "    </tr>\n",
       "    <tr>\n",
       "      <th>2</th>\n",
       "      <td>2019-01-03</td>\n",
       "      <td>Lucas</td>\n",
       "      <td>4.70</td>\n",
       "    </tr>\n",
       "    <tr>\n",
       "      <th>3</th>\n",
       "      <td>2019-01-04</td>\n",
       "      <td>Lucas</td>\n",
       "      <td>79.84</td>\n",
       "    </tr>\n",
       "    <tr>\n",
       "      <th>4</th>\n",
       "      <td>2019-01-05</td>\n",
       "      <td>George</td>\n",
       "      <td>39.52</td>\n",
       "    </tr>\n",
       "    <tr>\n",
       "      <th>5</th>\n",
       "      <td>2019-01-06</td>\n",
       "      <td>Lucas</td>\n",
       "      <td>66.72</td>\n",
       "    </tr>\n",
       "    <tr>\n",
       "      <th>6</th>\n",
       "      <td>2019-01-07</td>\n",
       "      <td>George</td>\n",
       "      <td>92.67</td>\n",
       "    </tr>\n",
       "    <tr>\n",
       "      <th>7</th>\n",
       "      <td>2019-01-08</td>\n",
       "      <td>Victor</td>\n",
       "      <td>63.90</td>\n",
       "    </tr>\n",
       "    <tr>\n",
       "      <th>8</th>\n",
       "      <td>2019-01-09</td>\n",
       "      <td>Victor</td>\n",
       "      <td>5.71</td>\n",
       "    </tr>\n",
       "    <tr>\n",
       "      <th>9</th>\n",
       "      <td>2019-01-10</td>\n",
       "      <td>Victor</td>\n",
       "      <td>14.51</td>\n",
       "    </tr>\n",
       "    <tr>\n",
       "      <th>10</th>\n",
       "      <td>2019-01-11</td>\n",
       "      <td>George</td>\n",
       "      <td>38.14</td>\n",
       "    </tr>\n",
       "    <tr>\n",
       "      <th>11</th>\n",
       "      <td>2019-01-12</td>\n",
       "      <td>Victor</td>\n",
       "      <td>5.46</td>\n",
       "    </tr>\n",
       "  </tbody>\n",
       "</table>\n",
       "</div>"
      ],
      "text/plain": [
       "          Dia    Nome  Gasto\n",
       "0  2019-01-01  Victor  21.97\n",
       "1  2019-01-02  George   4.18\n",
       "2  2019-01-03   Lucas   4.70\n",
       "3  2019-01-04   Lucas  79.84\n",
       "4  2019-01-05  George  39.52\n",
       "5  2019-01-06   Lucas  66.72\n",
       "6  2019-01-07  George  92.67\n",
       "7  2019-01-08  Victor  63.90\n",
       "8  2019-01-09  Victor   5.71\n",
       "9  2019-01-10  Victor  14.51\n",
       "10 2019-01-11  George  38.14\n",
       "11 2019-01-12  Victor   5.46"
      ]
     },
     "execution_count": 35,
     "metadata": {},
     "output_type": "execute_result"
    }
   ],
   "source": [
    "df"
   ]
  },
  {
   "cell_type": "code",
   "execution_count": 38,
   "id": "7ef40779-2f8e-4d32-8be8-8dfded01f784",
   "metadata": {},
   "outputs": [
    {
     "data": {
      "text/html": [
       "<div>\n",
       "<style scoped>\n",
       "    .dataframe tbody tr th:only-of-type {\n",
       "        vertical-align: middle;\n",
       "    }\n",
       "\n",
       "    .dataframe tbody tr th {\n",
       "        vertical-align: top;\n",
       "    }\n",
       "\n",
       "    .dataframe thead th {\n",
       "        text-align: right;\n",
       "    }\n",
       "</style>\n",
       "<table border=\"1\" class=\"dataframe\">\n",
       "  <thead>\n",
       "    <tr style=\"text-align: right;\">\n",
       "      <th>Nome</th>\n",
       "      <th>George</th>\n",
       "      <th>Lucas</th>\n",
       "      <th>Victor</th>\n",
       "    </tr>\n",
       "    <tr>\n",
       "      <th>Dia</th>\n",
       "      <th></th>\n",
       "      <th></th>\n",
       "      <th></th>\n",
       "    </tr>\n",
       "  </thead>\n",
       "  <tbody>\n",
       "    <tr>\n",
       "      <th>2019-01-01</th>\n",
       "      <td>NaN</td>\n",
       "      <td>NaN</td>\n",
       "      <td>21.97</td>\n",
       "    </tr>\n",
       "    <tr>\n",
       "      <th>2019-01-02</th>\n",
       "      <td>4.18</td>\n",
       "      <td>NaN</td>\n",
       "      <td>NaN</td>\n",
       "    </tr>\n",
       "    <tr>\n",
       "      <th>2019-01-03</th>\n",
       "      <td>NaN</td>\n",
       "      <td>4.70</td>\n",
       "      <td>NaN</td>\n",
       "    </tr>\n",
       "    <tr>\n",
       "      <th>2019-01-04</th>\n",
       "      <td>NaN</td>\n",
       "      <td>79.84</td>\n",
       "      <td>NaN</td>\n",
       "    </tr>\n",
       "    <tr>\n",
       "      <th>2019-01-05</th>\n",
       "      <td>39.52</td>\n",
       "      <td>NaN</td>\n",
       "      <td>NaN</td>\n",
       "    </tr>\n",
       "    <tr>\n",
       "      <th>2019-01-06</th>\n",
       "      <td>NaN</td>\n",
       "      <td>66.72</td>\n",
       "      <td>NaN</td>\n",
       "    </tr>\n",
       "    <tr>\n",
       "      <th>2019-01-07</th>\n",
       "      <td>92.67</td>\n",
       "      <td>NaN</td>\n",
       "      <td>NaN</td>\n",
       "    </tr>\n",
       "    <tr>\n",
       "      <th>2019-01-08</th>\n",
       "      <td>NaN</td>\n",
       "      <td>NaN</td>\n",
       "      <td>63.90</td>\n",
       "    </tr>\n",
       "    <tr>\n",
       "      <th>2019-01-09</th>\n",
       "      <td>NaN</td>\n",
       "      <td>NaN</td>\n",
       "      <td>5.71</td>\n",
       "    </tr>\n",
       "    <tr>\n",
       "      <th>2019-01-10</th>\n",
       "      <td>NaN</td>\n",
       "      <td>NaN</td>\n",
       "      <td>14.51</td>\n",
       "    </tr>\n",
       "    <tr>\n",
       "      <th>2019-01-11</th>\n",
       "      <td>38.14</td>\n",
       "      <td>NaN</td>\n",
       "      <td>NaN</td>\n",
       "    </tr>\n",
       "    <tr>\n",
       "      <th>2019-01-12</th>\n",
       "      <td>NaN</td>\n",
       "      <td>NaN</td>\n",
       "      <td>5.46</td>\n",
       "    </tr>\n",
       "  </tbody>\n",
       "</table>\n",
       "</div>"
      ],
      "text/plain": [
       "Nome        George  Lucas  Victor\n",
       "Dia                              \n",
       "2019-01-01     NaN    NaN   21.97\n",
       "2019-01-02    4.18    NaN     NaN\n",
       "2019-01-03     NaN   4.70     NaN\n",
       "2019-01-04     NaN  79.84     NaN\n",
       "2019-01-05   39.52    NaN     NaN\n",
       "2019-01-06     NaN  66.72     NaN\n",
       "2019-01-07   92.67    NaN     NaN\n",
       "2019-01-08     NaN    NaN   63.90\n",
       "2019-01-09     NaN    NaN    5.71\n",
       "2019-01-10     NaN    NaN   14.51\n",
       "2019-01-11   38.14    NaN     NaN\n",
       "2019-01-12     NaN    NaN    5.46"
      ]
     },
     "execution_count": 38,
     "metadata": {},
     "output_type": "execute_result"
    }
   ],
   "source": [
    "df.pivot(index = 'Dia', columns = 'Nome', values = 'Gasto')"
   ]
  },
  {
   "cell_type": "code",
   "execution_count": null,
   "id": "67154406-b560-4823-957d-195b6f403f6b",
   "metadata": {},
   "outputs": [],
   "source": []
  }
 ],
 "metadata": {
  "kernelspec": {
   "display_name": "Python 3 (ipykernel)",
   "language": "python",
   "name": "python3"
  },
  "language_info": {
   "codemirror_mode": {
    "name": "ipython",
    "version": 3
   },
   "file_extension": ".py",
   "mimetype": "text/x-python",
   "name": "python",
   "nbconvert_exporter": "python",
   "pygments_lexer": "ipython3",
   "version": "3.11.7"
  }
 },
 "nbformat": 4,
 "nbformat_minor": 5
}
