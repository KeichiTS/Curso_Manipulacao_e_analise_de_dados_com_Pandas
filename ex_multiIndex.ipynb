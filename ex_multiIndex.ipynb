{
 "cells": [
  {
   "cell_type": "code",
   "execution_count": 1,
   "id": "7ca041df-cccd-4667-8f0f-6de496210fe8",
   "metadata": {},
   "outputs": [],
   "source": [
    "import pandas as pd"
   ]
  },
  {
   "cell_type": "code",
   "execution_count": 2,
   "id": "c46c01d2-091e-47f2-b474-b564b8151a26",
   "metadata": {},
   "outputs": [],
   "source": [
    "arrays = [[1,1,2,2], ['red', 'blue', 'red', 'blue']]"
   ]
  },
  {
   "cell_type": "code",
   "execution_count": 17,
   "id": "cae7c6ba-3f98-4172-83e5-f0feaa3e8579",
   "metadata": {},
   "outputs": [
    {
     "data": {
      "text/plain": [
       "MultiIndex([(1,  'red'),\n",
       "            (1, 'blue'),\n",
       "            (2,  'red'),\n",
       "            (2, 'blue')],\n",
       "           names=['number', 'color'])"
      ]
     },
     "execution_count": 17,
     "metadata": {},
     "output_type": "execute_result"
    }
   ],
   "source": [
    "pd.MultiIndex.from_arrays(arrays, names = ('number', 'color'))"
   ]
  },
  {
   "cell_type": "code",
   "execution_count": 24,
   "id": "894593e7-5810-4785-afc7-87c584e54d9f",
   "metadata": {},
   "outputs": [
    {
     "data": {
      "text/plain": [
       "FrozenList([[1, 2], ['blue', 'red']])"
      ]
     },
     "execution_count": 24,
     "metadata": {},
     "output_type": "execute_result"
    }
   ],
   "source": [
    "pd.MultiIndex.from_arrays(arrays, names = ('number', 'color')).levels"
   ]
  },
  {
   "cell_type": "code",
   "execution_count": 22,
   "id": "c8f4da0c-c981-4a7c-90d8-d79c14720def",
   "metadata": {},
   "outputs": [
    {
     "data": {
      "text/plain": [
       "FrozenList([[0, 0, 1, 1], [1, 0, 1, 0]])"
      ]
     },
     "execution_count": 22,
     "metadata": {},
     "output_type": "execute_result"
    }
   ],
   "source": [
    "pd.MultiIndex.from_arrays(arrays, names = ('number', 'color')).codes"
   ]
  },
  {
   "cell_type": "code",
   "execution_count": 25,
   "id": "b01d10f9-7dd3-4b59-a5ce-88d9237a7810",
   "metadata": {},
   "outputs": [
    {
     "data": {
      "text/plain": [
       "FrozenList(['number', 'color'])"
      ]
     },
     "execution_count": 25,
     "metadata": {},
     "output_type": "execute_result"
    }
   ],
   "source": [
    "pd.MultiIndex.from_arrays(arrays, names = ('number', 'color')).names"
   ]
  },
  {
   "cell_type": "code",
   "execution_count": 27,
   "id": "5e79c3e7-3101-41ef-b776-d97e09519a4c",
   "metadata": {},
   "outputs": [],
   "source": [
    "#from product"
   ]
  },
  {
   "cell_type": "code",
   "execution_count": 34,
   "id": "dfc2302e-f48f-46c7-b2de-19e4f575cb93",
   "metadata": {},
   "outputs": [],
   "source": [
    "number = [0, 1, 2]\n",
    "colors = ['green', 'purple']"
   ]
  },
  {
   "cell_type": "code",
   "execution_count": 35,
   "id": "7872c119-cdb4-48f1-ac80-07f45abb90fe",
   "metadata": {},
   "outputs": [
    {
     "data": {
      "text/plain": [
       "MultiIndex([(0,  'green'),\n",
       "            (0, 'purple'),\n",
       "            (1,  'green'),\n",
       "            (1, 'purple'),\n",
       "            (2,  'green'),\n",
       "            (2, 'purple')],\n",
       "           names=['number', 'color'])"
      ]
     },
     "execution_count": 35,
     "metadata": {},
     "output_type": "execute_result"
    }
   ],
   "source": [
    "pd.MultiIndex.from_product([number, colors], names = ['number', 'color'])"
   ]
  },
  {
   "cell_type": "code",
   "execution_count": 36,
   "id": "dc44f0d9-5af4-4eb0-a408-a55eaf347279",
   "metadata": {},
   "outputs": [
    {
     "data": {
      "text/plain": [
       "FrozenList([[0, 1, 2], ['green', 'purple']])"
      ]
     },
     "execution_count": 36,
     "metadata": {},
     "output_type": "execute_result"
    }
   ],
   "source": [
    "pd.MultiIndex.from_product([number, colors], names = ['number', 'color']).levels"
   ]
  },
  {
   "cell_type": "code",
   "execution_count": 37,
   "id": "86af7813-d4de-4b17-9206-ba86710b47a7",
   "metadata": {},
   "outputs": [
    {
     "data": {
      "text/plain": [
       "FrozenList([[0, 0, 1, 1, 2, 2], [0, 1, 0, 1, 0, 1]])"
      ]
     },
     "execution_count": 37,
     "metadata": {},
     "output_type": "execute_result"
    }
   ],
   "source": [
    "pd.MultiIndex.from_product([number, colors], names = ['number', 'color']).codes"
   ]
  },
  {
   "cell_type": "code",
   "execution_count": null,
   "id": "4251658b-a71f-4754-8dfd-acf3b6ddc29d",
   "metadata": {},
   "outputs": [],
   "source": []
  }
 ],
 "metadata": {
  "kernelspec": {
   "display_name": "Python 3 (ipykernel)",
   "language": "python",
   "name": "python3"
  },
  "language_info": {
   "codemirror_mode": {
    "name": "ipython",
    "version": 3
   },
   "file_extension": ".py",
   "mimetype": "text/x-python",
   "name": "python",
   "nbconvert_exporter": "python",
   "pygments_lexer": "ipython3",
   "version": "3.11.7"
  }
 },
 "nbformat": 4,
 "nbformat_minor": 5
}
