{
 "cells": [
  {
   "cell_type": "code",
   "execution_count": 1,
   "id": "7ca041df-cccd-4667-8f0f-6de496210fe8",
   "metadata": {},
   "outputs": [],
   "source": [
    "import pandas as pd"
   ]
  },
  {
   "cell_type": "code",
   "execution_count": 2,
   "id": "c46c01d2-091e-47f2-b474-b564b8151a26",
   "metadata": {},
   "outputs": [],
   "source": [
    "arrays = [[1,1,2,2], ['red', 'blue', 'red', 'blue']]"
   ]
  },
  {
   "cell_type": "code",
   "execution_count": 17,
   "id": "cae7c6ba-3f98-4172-83e5-f0feaa3e8579",
   "metadata": {},
   "outputs": [
    {
     "data": {
      "text/plain": [
       "MultiIndex([(1,  'red'),\n",
       "            (1, 'blue'),\n",
       "            (2,  'red'),\n",
       "            (2, 'blue')],\n",
       "           names=['number', 'color'])"
      ]
     },
     "execution_count": 17,
     "metadata": {},
     "output_type": "execute_result"
    }
   ],
   "source": [
    "pd.MultiIndex.from_arrays(arrays, names = ('number', 'color'))"
   ]
  },
  {
   "cell_type": "code",
   "execution_count": 24,
   "id": "894593e7-5810-4785-afc7-87c584e54d9f",
   "metadata": {},
   "outputs": [
    {
     "data": {
      "text/plain": [
       "FrozenList([[1, 2], ['blue', 'red']])"
      ]
     },
     "execution_count": 24,
     "metadata": {},
     "output_type": "execute_result"
    }
   ],
   "source": [
    "pd.MultiIndex.from_arrays(arrays, names = ('number', 'color')).levels"
   ]
  },
  {
   "cell_type": "code",
   "execution_count": 22,
   "id": "c8f4da0c-c981-4a7c-90d8-d79c14720def",
   "metadata": {},
   "outputs": [
    {
     "data": {
      "text/plain": [
       "FrozenList([[0, 0, 1, 1], [1, 0, 1, 0]])"
      ]
     },
     "execution_count": 22,
     "metadata": {},
     "output_type": "execute_result"
    }
   ],
   "source": [
    "pd.MultiIndex.from_arrays(arrays, names = ('number', 'color')).codes"
   ]
  },
  {
   "cell_type": "code",
   "execution_count": 25,
   "id": "b01d10f9-7dd3-4b59-a5ce-88d9237a7810",
   "metadata": {},
   "outputs": [
    {
     "data": {
      "text/plain": [
       "FrozenList(['number', 'color'])"
      ]
     },
     "execution_count": 25,
     "metadata": {},
     "output_type": "execute_result"
    }
   ],
   "source": [
    "pd.MultiIndex.from_arrays(arrays, names = ('number', 'color')).names"
   ]
  },
  {
   "cell_type": "code",
   "execution_count": null,
   "id": "5e79c3e7-3101-41ef-b776-d97e09519a4c",
   "metadata": {},
   "outputs": [],
   "source": []
  }
 ],
 "metadata": {
  "kernelspec": {
   "display_name": "Python 3 (ipykernel)",
   "language": "python",
   "name": "python3"
  },
  "language_info": {
   "codemirror_mode": {
    "name": "ipython",
    "version": 3
   },
   "file_extension": ".py",
   "mimetype": "text/x-python",
   "name": "python",
   "nbconvert_exporter": "python",
   "pygments_lexer": "ipython3",
   "version": "3.11.7"
  }
 },
 "nbformat": 4,
 "nbformat_minor": 5
}
